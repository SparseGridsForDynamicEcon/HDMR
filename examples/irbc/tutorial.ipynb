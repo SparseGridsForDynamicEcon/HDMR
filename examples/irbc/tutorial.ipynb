{
 "cells": [
  {
   "cell_type": "markdown",
   "metadata": {},
   "source": [
    "# Solving the IRBC Model with Adaptive SG and DDSG\n",
    "The material presented here supplements the work described in **[1]**, which introduces a highly performant time-iteration method for solving large-scale IRBC models. Embedded in the time-iteration solution method, the introduced DDSG algorithm is a highly scalable function approximation technique. The utilization of DDSG within the time-iteration has been shown to be highly effective in solving large-scale dynamic stochastic economic models. This algorithm was originally developed in C++ and Fortran using hybrid parallelism (OpenMP and MPI). However, the MPI parallel Python implementation presented here is intended to be more practical. The _DDSG_ class (see DDSG/DDSG.py) for function approximation (used for both DDSG and adaptive SG), and the _IRBC_ class (see IRBC/IRBC.py) for the IRBC model are required for the solution methods described in this notebook.\n",
    "\n",
    "In this notebook we shows the basics of the IRBC model, solve the model with time-iteartion using adaptive SG and finally solving it using the introduced DDSG algorithem. For details on the model we refer the reader to both **[1]**, and **[2]** and also to hands on examples in **[3]**.\n",
    "\n",
    "*References*\n",
    "- **[1]** [High-Dimensional Dynamic Stochastic Model Representation, A. Eftekhari, S. Scheidegger, SIAM Journal on Scientific Computing (SISC), 2022](https://epubs.siam.org/doi/10.1137/21M1392231)\n",
    "- **[2]** [Sparse Grids for Dynamic Economic Models J. Brumm, C. Krause, A. Schabb, S. Scheidegger](https://papers.ssrn.com/sol3/papers.cfm?abstract_id=3979412)\n",
    "- **[3]** https://github.com/SparseGridsForDynamicEcon/SparseGrids_in_econ_handbook"
   ]
  },
  {
   "cell_type": "code",
   "execution_count": null,
   "metadata": {},
   "outputs": [],
   "source": []
  },
  {
   "cell_type": "code",
   "execution_count": 10,
   "metadata": {},
   "outputs": [],
   "source": [
    "import time\n",
    "import numpy as np\n",
    "from tabulate import tabulate\n",
    "\n",
    "import os\n",
    "import sys\n",
    "import matplotlib.pyplot as plt\n",
    "\n",
    "from IRBC import IRBC\n",
    "from DDSG import DDSG\n",
    "from scipy import optimize"
   ]
  },
  {
   "cell_type": "markdown",
   "metadata": {},
   "source": [
    "## 1. IRBC Model \n",
    "We begin by first initilizing the IRBC model which follows the description of the two models (_smooth_ and _non-smooth_) described in **[2]**. With the default parameters set, we can initialize the model using the following steps:\n",
    "1. Instatitate the IRBC model with the number of countries (say 2) and type of model (smooth or non-smooth), i.e., `model=IRBC(num_countries=2,irbc_type='non-smooth')`.\n",
    "2. Set the parameters of the model, i.e.,`.set_parameters()`.  Note, all patamersts are set by defualt to those found in **[2]**.\n",
    "3. Set the defualt integral rules, i.e., `.set_integral_rule()`. Notethat at the moment, only 'monomials_power' has been implemented and this is selected by default.\n",
    "4. (optional) For confirmation, we can print the parameters of the model using `print_parameters()` method.\n",
    "\n",
    "The main method of the IRBC object is the `.system_of_equations(x,state,p_last)` which is the value of the residual of the first-order-condtions optimiality conditions of the model. In particular, `x` is the policy to be solved, `state` is the state, and `p_last` is the last best estimate of the policy function (i.e., the current policy function). The zeros of this system of (non-linear) equations must be solved for all discrete states (i.e., grid points) in the statespace. This procedure of finding the policies that correspond to the equilibrium condition of the model at some states is encapsulated in the function `eq_condition(X)`. Note `eq_condition_init_guess(X)` is simply the intial guess of the policy function."
   ]
  },
  {
   "cell_type": "code",
   "execution_count": 11,
   "metadata": {},
   "outputs": [
    {
     "name": "stdout",
     "output_type": "stream",
     "text": [
      "Parameter                                               Variable    Value\n",
      "------------------------------------------------------  ----------  -------------------------------\n",
      "Intertemporal elasticity of substitution(IES)           gamma       ies_a+(i-1)(ies_b-ies_a)/(N-1)\n",
      "IES factor a                                            ies_a       0.25\n",
      "IES factor b                                            ies_b       1\n",
      "Discount factor                                         beta        0.99\n",
      "Capital share of income                                 zeta        0.36\n",
      "Depreciation rate                                       delta       0.01\n",
      "Persistence of total factor productivity shocks         rho_Z       0.95\n",
      "Standard deviation of total factor productivity shocks  sig_E       0.01\n",
      "Intensity of capital adjustment costs                   kappa       0.5\n",
      "Lower bound for capital                                 k_min       0.8\n",
      "Upper bound for capital                                 k_max       1.2\n",
      "Aggregate productivity                                  A_tfp       0.05583613916947258\n",
      "Welfare weight                                          pareto      [9.71989390e-06 5.58361392e-02]\n",
      "Lower bound for total factor productivity               a_min       -0.15999999999999986\n",
      "Upper bound for total factor productivity               a_max       0.15999999999999986\n"
     ]
    }
   ],
   "source": [
    "model = IRBC(num_countries=2, irbc_type='non-smooth')  \n",
    "model.set_parameters()\n",
    "model.set_integral_rule()\n",
    "model.print_parameters()   \n",
    "\n",
    "def eq_condition(X):  \n",
    "    global p_last\n",
    "    [n,d]=X.shape\n",
    "    result = np.empty(shape=(n,model.grid_dof))\n",
    "    for i in range(0,n):\n",
    "        state    = X[i,:]\n",
    "        p_guess  = p_last.eval(X[i,:].reshape(1,-1))\n",
    "        solution = optimize.root(fun=model.system_of_equations, x0=p_guess,tol=1e-6,args=(state,p_last), method='hybr') \n",
    "        result[i,:] = solution.x        \n",
    "    return result\n",
    "\n",
    "def eq_condition_init_guess(X):\n",
    "    [n,d]=X.shape\n",
    "    val = np.empty(shape=(n,model.grid_dof))\n",
    "    for i in range(0,n): \n",
    "        val[i,0:model.num_countries]  = (model.k_min + model.k_max)/2\n",
    "        val[i,model.num_countries]    = 1\n",
    "        val[i,model.num_countries+1:] = -0.1\n",
    "\n",
    "    return val"
   ]
  },
  {
   "cell_type": "markdown",
   "metadata": {},
   "source": [
    "## 2. Time-Iteration\n",
    "Here we implement the time-iteration algorithm, which consists of an incremental update of the policy function using the previous estimate of the policy function.To generate a baseline estimate of the policy function, we use the DDSG library, but with only SG. We can do this by _not_ calling the `set_decomposition()` method; see _examples/analytical_ for more details and examples of using the _DDSG_ library. Notice that `p_next` and `p_last` are the global variables that are called within `eq_condition`. After each iteration, we swap the policy and proceed to the next iteration. \n",
    "\n",
    "This baseline estimate is a crude approximation of the plocly function with refinement up to only level 1. The estimated policy function is saved to file using the 'dump()' method. We will reload it and use it to solve the optimal policy using adaptive SG and DDSG in parts 2.1 and 2.2, respectively."
   ]
  },
  {
   "cell_type": "code",
   "execution_count": 12,
   "metadata": {},
   "outputs": [
    {
     "name": "stdout",
     "output_type": "stream",
     "text": [
      "#time-iteration:\n",
      "0  1  2  3  4  5  6  7  8  9  10  11  12  13  14  15  16  17  18  19  20  21  22  23  24  25  26  27  28  29  30  31  32  33  34  35  36  37  38  39  40  41  42  43  44  45  46  47  48  49  50  51  52  53  54  55  56  57  58  59  60  61  62  63  64  65  66  67  68  69  70  71  72  73  74  75  76  77  78  79  80  81  82  83  84  85  86  87  88  89  90  91  92  93  94  95  96  97  98  99  100  101  102  103  104  105  106  107  108  109  110  111  112  113  114  115  116  117  118  119  120  121  122  123  124  125  126  127  128  129  130  131  132  133  134  135  136  137  138  139  140  141  142  143  144  145  146  147  148  149  150  151  152  153  154  155  156  157  158  159  160  161  162  163  164  165  166  167  168  169  170  171  172  173  174  175  176  177  178  179  180  181  182  183  184  185  186  187  188  189  190  191  192  193  194  195  196  197  198  199  200  201  202  203  204  205  206  207  208  209  210  211  212  213  214  215  216  217  218  219  220  221  222  223  224  225  226  227  228  229  230  231  232  233  234  235  236  237  238  239  240  241  242  243  244  245  246  247  248  249  250  251  252  253  254  255  256  257  258  259  260  261  262  263  264  265  266  267  268  269  270  271  272  273  274  275  276  277  278  279  280  281  282  283  284  285  286  287  288  289  290  291  292  293  294  295  296  297  298  299  "
     ]
    }
   ],
   "source": [
    "# Max time-iteration iterations\n",
    "iter_max = 300\n",
    "\n",
    "# ASG parametrs\n",
    "eps_sg   = 0\n",
    "l_max    = 1\n",
    "\n",
    "# Grid Domain Parameters\n",
    "domain   = np.zeros((model.grid_dim,2))\n",
    "domain[0:model.num_countries,0] = model.k_min\n",
    "domain[0:model.num_countries,1] = model.k_max\n",
    "domain[model.num_countries:,0]  = model.a_min\n",
    "domain[model.num_countries:,1]  = model.a_max\n",
    "\n",
    "# construct last grid\n",
    "# this will initially hold the guessed policy\n",
    "p_last = DDSG()\n",
    "p_last.init(f_orical=eq_condition_init_guess,d=model.grid_dim,m=model.grid_dof) \n",
    "p_last.set_grid(domain=domain,l_max=l_max,eps_sg=eps_sg)\n",
    "p_last.build(verbose=0)\n",
    "\n",
    "# \"course\" time-iteration \n",
    "print('#time-iteration:')\n",
    "for i in range(0,iter_max):\n",
    "    \n",
    "    p_next = DDSG()\n",
    "    p_next.init(eq_condition,d=model.grid_dim,m=model.grid_dof)  \n",
    "    p_next.set_grid(domain=domain,l_max=l_max,eps_sg=eps_sg)\n",
    "    p_next.build(verbose=0)\n",
    "    print(i,' ',end='')\n",
    "\n",
    "    # swap policy\n",
    "    p_last = p_next\n",
    "\n",
    "p_next.dump('p_baseline',replace=True)"
   ]
  },
  {
   "cell_type": "markdown",
   "metadata": {},
   "source": [
    "### 2.1 Time-Iteration with Adaptive SG\n",
    "Following the baseline estimate in section 2.0, we load it using `p_last = DDSG('p_baseline')` and continue with the time-iteration using adaptive SG, but this time with a higher refinement level. \n",
    "To evaluate the time-iteration statgnation, we sample the policy function with `X_sample` and return the L2-nrom."
   ]
  },
  {
   "cell_type": "code",
   "execution_count": 13,
   "metadata": {},
   "outputs": [
    {
     "name": "stdout",
     "output_type": "stream",
     "text": [
      "#time-iteration:0 time(Sec.):9.13e+00  error_l2:5.97e-05  gridpoints:1.04e+03\n",
      "#time-iteration:1 time(Sec.):4.73e+00  error_l2:9.93e-06  gridpoints:1.04e+03\n",
      "#time-iteration:2 time(Sec.):4.34e+00  error_l2:8.81e-06  gridpoints:1.04e+03\n",
      "#time-iteration:3 time(Sec.):4.46e+00  error_l2:7.51e-06  gridpoints:1.05e+03\n",
      "#time-iteration:4 time(Sec.):8.23e+00  error_l2:6.76e-06  gridpoints:1.06e+03\n"
     ]
    }
   ],
   "source": [
    "# Max time-iteration iterations\n",
    "iter_max = 5\n",
    "\n",
    "# SG parametrs\n",
    "l_max    = 5\n",
    "eps_sg   = 1e-3\n",
    "\n",
    "# sample points int the domain\n",
    "X_sample = np.random.uniform(low=domain[:,0],high=domain[:,1],size=(1000,model.grid_dim))\n",
    "\n",
    "# results\n",
    "t_total_sg               =[]\n",
    "grid_points_sg           =[]\n",
    "error_l2_mean_sg         =[]\n",
    "\n",
    "p_last = DDSG('p_baseline')\n",
    "# time-iteration\n",
    "for i in range(0,iter_max):\n",
    "    \n",
    "    # construct sparse grid \n",
    "    t_total_sg.append(-time.time())\n",
    "\n",
    "    p_next = DDSG()\n",
    "    p_next.init(eq_condition,d=model.grid_dim,m=model.grid_dof)  \n",
    "    p_next.set_grid(domain=domain,l_max=l_max,eps_sg=eps_sg)\n",
    "    p_next.build(verbose=0)\n",
    "    \n",
    "    t_total_sg[-1] += time.time()\n",
    "\n",
    "    diff = p_next.eval(X_sample) - p_last.eval(X_sample)\n",
    "    error_l2_mean_sg.append(np.linalg.norm(diff.flatten())/diff.size) \n",
    "    grid_points_sg.append(p_next.num_grid_points)\n",
    "\n",
    "    print('#time-iteration:{:d} time(Sec.):{:.2e}  error_l2:{:.2e}  gridpoints:{:.2e}'.format(i,t_total_sg[-1],error_l2_mean_sg[-1],grid_points_sg[-1]) )\n",
    "    \n",
    "    # swap policy\n",
    "    p_last = p_next\n",
    "\n",
    "p_next.dump('p_sg',replace=True)"
   ]
  },
  {
   "cell_type": "markdown",
   "metadata": {},
   "source": [
    "### 2.2 Time-Iteration with DDSG\n",
    "Following the baseline estimate in section 2.0, we load it using `p_last = DDSG('p_baseline')` and continue with the time-iteration using adaptive DDSG with expansion order of 1. \n",
    "As before, we evaluate the time-iteration statgnation, we sample the policy function with `X_sample` and return the L2-nrom."
   ]
  },
  {
   "cell_type": "code",
   "execution_count": 14,
   "metadata": {},
   "outputs": [
    {
     "name": "stdout",
     "output_type": "stream",
     "text": [
      "#time-iteration:0 time(Sec.):4.34e+00  error_l2:8.12e-06  gridpoints:8.90e+01\n",
      "#time-iteration:1 time(Sec.):6.04e-01  error_l2:6.61e-06  gridpoints:8.90e+01\n",
      "#time-iteration:2 time(Sec.):3.02e+00  error_l2:5.56e-06  gridpoints:9.30e+01\n",
      "#time-iteration:3 time(Sec.):6.71e-01  error_l2:4.94e-06  gridpoints:9.30e+01\n",
      "#time-iteration:4 time(Sec.):6.28e-01  error_l2:4.66e-06  gridpoints:9.30e+01\n"
     ]
    }
   ],
   "source": [
    "# Max time-iteration iterations\n",
    "iter_max = 5\n",
    "\n",
    "# DDSG parametrs\n",
    "k_max    = 1\n",
    "l_max    = 5\n",
    "eps_sg   = 1e-3\n",
    "eps_dd   = 1e-6\n",
    "\n",
    "x0=np.mean(domain,axis=1).reshape((1,domain.shape[0]))\n",
    "\n",
    "t_total_ddsg       =[]\n",
    "grid_points_ddsg   =[]\n",
    "error_l2_mean_ddsg =[]\n",
    "\n",
    "p_last = DDSG('p_baseline')\n",
    "for i in range(0,iter_max):\n",
    "    \n",
    "    t_total_ddsg.append(-time.time())\n",
    "\n",
    "    p_next = DDSG()\n",
    "    p_next.init(eq_condition,d=model.grid_dim,m=model.grid_dof)  \n",
    "    p_next.set_grid(domain=domain,l_max=l_max,eps_sg=eps_sg)\n",
    "    p_next.set_decomposition(x0,k_max=k_max,eps_rho=eps_dd,eps_eta=eps_dd)\n",
    "    p_next.build(verbose=0)\n",
    "    \n",
    "    t_total_ddsg[-1] += time.time()\n",
    "\n",
    "    diff = p_next.eval(X_sample) - p_last.eval(X_sample)\n",
    "    error_l2_mean_ddsg.append(np.linalg.norm(diff.flatten())/diff.size) \n",
    "    grid_points_ddsg.append(p_next.num_grid_points)\n",
    "\n",
    "    print('#time-iteration:{:d} time(Sec.):{:.2e}  error_l2:{:.2e}  gridpoints:{:.2e}'.format(i,t_total_ddsg[-1],error_l2_mean_ddsg[-1],grid_points_ddsg[-1]) )\n",
    "\n",
    "    # swap policy\n",
    "    p_last = p_next\n",
    "\n",
    "p_next.dump('p_ddsg',replace=True)"
   ]
  },
  {
   "cell_type": "markdown",
   "metadata": {},
   "source": [
    "## 3 Error Metrics\n",
    "We present two types of metrics here. The first metric is the stagnation metric, which does not always correspond to the convergence. On each iteration, it is simply the L2 norm of the sampled policy function. This metric is shown below for experience in sections 2.1 and 2.2 in terms of cumulative runtime time and cumulative grid points.  \n",
    "\n",
    "_The runtime difference (and grid points) between SG and DDSG grows significantly with increasing dimension, with DDSG being buch less._"
   ]
  },
  {
   "cell_type": "code",
   "execution_count": 15,
   "metadata": {},
   "outputs": [
    {
     "data": {
      "image/png": "[encoded data removed]",
      "text/plain": [
       "<Figure size 1008x360 with 2 Axes>"
      ]
     },
     "metadata": {
      "needs_background": "light"
     },
     "output_type": "display_data"
    }
   ],
   "source": [
    "fig = plt.figure(figsize=(14,5))\n",
    "ax = fig.add_subplot(1,2,1)\n",
    "ax.plot(np.cumsum(t_total_sg)  ,error_l2_mean_sg,  '-o', color='blue',label=\"SG\")\n",
    "ax.plot(np.cumsum(t_total_ddsg),error_l2_mean_ddsg,'-o', color='green',label=\"DDSG\")\n",
    "ax.set_yscale('log')\n",
    "ax.set_ylabel('Stagnation (L2-Norm)')\n",
    "ax.set_xlabel('Cumulative Runtime (Sec.)')\n",
    "ax.grid(visible=True, which='both',axis='both')\n",
    "ax.legend()\n",
    "\n",
    "ax = fig.add_subplot(1,2,2)\n",
    "ax.plot(np.cumsum(grid_points_sg)   ,error_l2_mean_sg,  '-o', color='blue',label=\"SG\")\n",
    "ax.plot(np.cumsum(grid_points_ddsg) ,error_l2_mean_ddsg,'-o', color='green',label=\"DDSG\")\n",
    "ax.set_yscale('log')\n",
    "ax.set_ylabel('Stagnation (L2-Norm)')\n",
    "ax.set_xlabel('Number Of Grid Points')\n",
    "ax.grid(visible=True, which='both',axis='both')\n",
    "ax.legend()\n",
    "\n",
    "fig.show()"
   ]
  },
  {
   "cell_type": "markdown",
   "metadata": {},
   "source": [
    "The errors reported here indicate how far the current policy and the policy for the next period are from optimal when calculated using the computed equilibrium policy function. Along the N-step simulation path, the errors are computed. We report the _average_ and _maximum_ (99.9%ile) simulation errors in log base 10. We can see that DDSG and SG have similar errors, but DDSG takes much less time and uses far fewer grid points."
   ]
  },
  {
   "cell_type": "code",
   "execution_count": 16,
   "metadata": {},
   "outputs": [
    {
     "name": "stdout",
     "output_type": "stream",
     "text": [
      "        Sim. Avg. Euler Error (log10)    Sim. Max. Euler Error (log10)    Cumulitive Runtime (Sec.)    Cumulitive Number of Grid Points\n",
      "----  -------------------------------  -------------------------------  ---------------------------  ----------------------------------\n",
      "SG                           -1.751                           -1.45376                      8.22627                                1059\n",
      "DDSG                         -1.77295                         -1.48821                      9.26019                                 457\n"
     ]
    }
   ],
   "source": [
    "\n",
    "# Number of simulation steps\n",
    "N=11000\n",
    "\n",
    "# evaluation simulation erro\n",
    "def error_sim_eval(folder_name):\n",
    "    p   = DDSG(folder_name)\n",
    "    error = model.error_sim(policy_funcion=p,N=N)\n",
    "    error = error[int(N*.1):,:] # Remove the frist N_ignore (burnin)\n",
    "    error_econ_abs_mean=np.mean(np.abs(error.flatten()))\n",
    "    error_econ_abs_max999=np.percentile(np.abs(error.flatten()),99.9)\n",
    "\n",
    "    return  [error_econ_abs_mean,error_econ_abs_max999]\n",
    "\n",
    "data=[]\n",
    "\n",
    "error = error_sim_eval('p_sg')\n",
    "data.append(['SG',np.log10(error[0]),np.log10(error[1]),np.sum(t_total_sg[-1]),np.sum(grid_points_sg[-1])])\n",
    "\n",
    "error = error_sim_eval('p_ddsg')\n",
    "data.append(['DDSG',np.log10(error[0]),np.log10(error[1]),np.sum(t_total_ddsg),np.sum(grid_points_ddsg)])\n",
    "\n",
    "headers = ['Sim. Avg. Euler Error (log10)','Sim. Max. Euler Error (log10)','Cumulitive Runtime (Sec.)','Cumulitive Number of Grid Points']\n",
    "\n",
    "print(tabulate(data,headers=headers))\n"
   ]
  },
  {
   "cell_type": "markdown",
   "metadata": {},
   "source": [
    "## 4 Strong-Scaling\n",
    "\n",
    "To run DDSG in parallel, the script must be executed using `mpirun`; for example, to run the script with four processes, use the command `mpirun -—bind-to core -np 4 python3 script.py`. The `-—bind-to core` flag ensures that the processes are linked to the machine's cores. \n",
    "\n",
    "Here we show scalablity of the DDSG time-iteation alogirthem. Unlike the previous examples, we use the _smooth_  IRBC model as the test case. We only take one iteartion for each test. In all test we fix maximimum SG refinment to level 8 and maximum expansion order to 1. We use two time-iteartion steps and report the cumulitive the number of grid-points and cumulitie runtime."
   ]
  },
  {
   "cell_type": "code",
   "execution_count": 17,
   "metadata": {},
   "outputs": [
    {
     "data": {
      "image/png": "[encoded data removed]",
      "text/plain": [
       "<Figure size 1008x360 with 2 Axes>"
      ]
     },
     "metadata": {
      "needs_background": "light"
     },
     "output_type": "display_data"
    }
   ],
   "source": [
    "num_country_sg   = [2,3,4]\n",
    "time_sg          = [1.16e+00,1.24e+01,1.28e+02]\n",
    "\n",
    "#mpirun --bind-to core -np 1 python3 unit_test_IRBC.py 2 4 0 2\n",
    "#mpirun --bind-to core -np 1 python3 unit_test_IRBC.py 3 4 0 2\n",
    "#mpirun --bind-to core -np 1 python3 unit_test_IRBC.py 4 4 0 2\n",
    "\n",
    "num_country_ddsg = [2,3,4,8,16]\n",
    "time_ddsg        = [3.71e-01,7.93e-01,1.53e+00,8.70e+00,8.79e+01]\n",
    "#mpirun --bind-to core -np 1 python3 unit_test_IRBC.py 2 4 1 2\n",
    "#mpirun --bind-to core -np 1 python3 unit_test_IRBC.py 3 4 1 2\n",
    "#mpirun --bind-to core -np 1 python3 unit_test_IRBC.py 4 4 1 2\n",
    "#mpirun --bind-to core -np 1 python3 unit_test_IRBC.py 8 4 1 2\n",
    "#mpirun --bind-to core -np 1 python3 unit_test_IRBC.py 16 4 1 2\n",
    "\n",
    "n_proc       = [1,2,4,8,16]\n",
    "#mpirun --bind-to core -np 1 python3 unit_test_IRBC.py 16 4 1 2\n",
    "#mpirun --bind-to core -np 2 python3 unit_test_IRBC.py 16 4 1 2\n",
    "#mpirun --bind-to core -np 4 python3 unit_test_IRBC.py 16 4 1 2\n",
    "#mpirun --bind-to core -np 8 python3 unit_test_IRBC.py 16 4 1 2\n",
    "#mpirun --bind-to core -np 16 python3 unit_test_IRBC.py 16 4 1 2\n",
    "time_ddsg_16 = [8.79e+01,4.51e+01,2.52e+01,1.39e+01,8.64e+00]\n",
    "\n",
    "#mpirun --bind-to core -np 1 python3 unit_test_IRBC.py 8 4 1 2\n",
    "#mpirun --bind-to core -np 2 python3 unit_test_IRBC.py 8 4 1 2\n",
    "#mpirun --bind-to core -np 4 python3 unit_test_IRBC.py 8 4 1 2\n",
    "#mpirun --bind-to core -np 8 python3 unit_test_IRBC.py 8 4 1 2\n",
    "#mpirun --bind-to core -np 16 python3 unit_test_IRBC.py 8 4 1 2\n",
    "time_ddsg_8  = [8.22e+00,4.54e+00,2.76e+00,1.66e+00,1.01e+00]\n",
    "\n",
    "# Plot\n",
    "fig = plt.figure(figsize=(14,5))\n",
    "ax = fig.add_subplot(1,2,1)\n",
    "ax.plot(num_country_sg,time_sg,'-o', color='blue')\n",
    "ax.plot(num_country_ddsg,time_ddsg,'-o', color='green')\n",
    "ax.set_ylabel('Run-Time (per iteration)')\n",
    "ax.set_xlabel('Number of Countries')\n",
    "ax.set_xticks(n_proc)\n",
    "ax.set_yscale('log')\n",
    "ax.set_xscale('log',base=2)\n",
    "ax.grid(visible=True, which='both',axis='both')\n",
    "ax.legend(['$SG$','$DDSG$'])\n",
    "\n",
    "ax = fig.add_subplot(1,2,2)\n",
    "ax.plot(n_proc,time_ddsg_16,'-o', color='blue')\n",
    "ax.plot(n_proc,time_ddsg_8,'-o', color='red')\n",
    "ax.set_ylabel('Run-Time (per iteration)')\n",
    "ax.set_xlabel('Number of Processes')\n",
    "ax.set_xticks(n_proc)\n",
    "ax.set_yscale('log')\n",
    "ax.set_xscale('log',base=2)\n",
    "ax.legend(['$num\\_countries=16$','$num\\_countries=8$'])\n",
    "ax.grid(visible=True, which='both',axis='both')\n",
    "plt.show()"
   ]
  }
 ],
 "metadata": {
  "interpreter": {
   "hash": "31f2aee4e71d21fbe5cf8b01ff0e069b9275f58929596ceb00d14d90e3e16cd6"
  },
  "kernelspec": {
   "display_name": "Python 3.8.10 64-bit",
   "language": "python",
   "name": "python3"
  },
  "language_info": {
   "codemirror_mode": {
    "name": "ipython",
    "version": 3
   },
   "file_extension": ".py",
   "mimetype": "text/x-python",
   "name": "python",
   "nbconvert_exporter": "python",
   "pygments_lexer": "ipython3",
   "version": "3.8.10"
  },
  "orig_nbformat": 4,
  "vscode": {
   "interpreter": {
    "hash": "31f2aee4e71d21fbe5cf8b01ff0e069b9275f58929596ceb00d14d90e3e16cd6"
   }
  }
 },
 "nbformat": 4,
 "nbformat_minor": 2
}
